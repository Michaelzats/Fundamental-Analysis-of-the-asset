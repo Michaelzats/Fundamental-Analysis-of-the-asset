{
  "nbformat": 4,
  "nbformat_minor": 0,
  "metadata": {
    "colab": {
      "name": "Stocks Info Scrapper .ipynb",
      "provenance": [],
      "authorship_tag": "ABX9TyM0q4jp8F6GgWhC2yxIAU41",
      "include_colab_link": true
    },
    "kernelspec": {
      "name": "python3",
      "display_name": "Python 3"
    },
    "language_info": {
      "name": "python"
    }
  },
  "cells": [
    {
      "cell_type": "markdown",
      "metadata": {
        "id": "view-in-github",
        "colab_type": "text"
      },
      "source": [
        "<a href=\"https://colab.research.google.com/github/Michaelzats/Fundamental-Analysis-of-the-asset/blob/main/Fundamental%20Analysis%20of%20the%20asset.ipynb\" target=\"_parent\"><img src=\"https://colab.research.google.com/assets/colab-badge.svg\" alt=\"Open In Colab\"/></a>"
      ]
    },
    {
      "cell_type": "markdown",
      "source": [
        "#Fundamental Analysis of the asset"
      ],
      "metadata": {
        "id": "yhsmCDm9SYL8"
      }
    },
    {
      "cell_type": "markdown",
      "source": [
        "The following tool helps to quickly find all the relevant fundamental information with regards to the put asset (Stocks, crypto etc).\n",
        "\n",
        "Such information as Fundamental Ratios, Recent News and Recent Insider Trades with their volumes and costs will be displayed "
      ],
      "metadata": {
        "id": "wANNKPodSuvK"
      }
    },
    {
      "cell_type": "markdown",
      "source": [
        "Required libraries"
      ],
      "metadata": {
        "id": "Mr_GAoQETYZl"
      }
    },
    {
      "cell_type": "code",
      "source": [
        "import pandas as pd\n",
        "import numpy as np\n",
        "from bs4 import BeautifulSoup as soup\n",
        "from urllib.request import Request, urlopen"
      ],
      "metadata": {
        "id": "n_OjXuslTaPf"
      },
      "execution_count": 1,
      "outputs": []
    },
    {
      "cell_type": "markdown",
      "source": [
        "Setting up the tool"
      ],
      "metadata": {
        "id": "pT6duK6ZT6Ky"
      }
    },
    {
      "cell_type": "code",
      "execution_count": 2,
      "metadata": {
        "colab": {
          "base_uri": "https://localhost:8080/"
        },
        "id": "wS2cVa8iMta7",
        "outputId": "cd2c8352-95b2-4139-d905-c4182fa98e7a"
      },
      "outputs": [
        {
          "output_type": "stream",
          "name": "stdout",
          "text": [
            "Enter a ticker: TSLA\n",
            "Getting data for TSLA...\n",
            "\n"
          ]
        }
      ],
      "source": [
        "pd.set_option('display.max_colwidth', 25)\n",
        "\n",
        "# Input\n",
        "symbol = input('Enter a ticker: ')\n",
        "print ('Getting data for ' + symbol + '...\\n')\n",
        "\n",
        "# Set up scraper\n",
        "url = (\"http://finviz.com/quote.ashx?t=\" + symbol.lower())\n",
        "req = Request(url, headers={'User-Agent': 'Mozilla/5.0'})\n",
        "webpage = urlopen(req).read()\n",
        "html = soup(webpage, \"html.parser\")\n",
        "\n",
        "def get_fundamentals():\n",
        "    try:\n",
        "        # Find fundamentals table\n",
        "        fundamentals = pd.read_html(str(html), attrs = {'class': 'snapshot-table2'})[0]\n",
        "        \n",
        "        # Clean up fundamentals dataframe\n",
        "        fundamentals.columns = ['0', '1', '2', '3', '4', '5', '6', '7', '8', '9', '10', '11']\n",
        "        colOne = []\n",
        "        colLength = len(fundamentals)\n",
        "        for k in np.arange(0, colLength, 2):\n",
        "            colOne.append(fundamentals[f'{k}'])\n",
        "        attrs = pd.concat(colOne, ignore_index=True)\n",
        "    \n",
        "        colTwo = []\n",
        "        colLength = len(fundamentals)\n",
        "        for k in np.arange(1, colLength, 2):\n",
        "            colTwo.append(fundamentals[f'{k}'])\n",
        "        vals = pd.concat(colTwo, ignore_index=True)\n",
        "        \n",
        "        fundamentals = pd.DataFrame()\n",
        "        fundamentals['Attributes'] = attrs\n",
        "        fundamentals['Values'] = vals\n",
        "        fundamentals = fundamentals.set_index('Attributes')\n",
        "        return fundamentals\n",
        "\n",
        "    except Exception as e:\n",
        "        return e\n",
        "    \n",
        "def get_news():\n",
        "    try:\n",
        "        # Find news table\n",
        "        news = pd.read_html(str(html), attrs = {'class': 'fullview-news-outer'})[0]\n",
        "        links = []\n",
        "        for a in html.find_all('a', class_=\"tab-link-news\"):\n",
        "            links.append(a['href'])\n",
        "        \n",
        "        # Clean up news dataframe\n",
        "        news.columns = ['Date', 'News Headline']\n",
        "        news['Article Link'] = links\n",
        "        news = news.set_index('Date')\n",
        "        return news\n",
        "\n",
        "    except Exception as e:\n",
        "        return e\n",
        "\n",
        "def get_insider():\n",
        "    try:\n",
        "        # Find insider table\n",
        "        insider = pd.read_html(str(html), attrs = {'class': 'body-table'})[0]\n",
        "        \n",
        "        # Clean up insider dataframe\n",
        "        insider = insider.iloc[1:]\n",
        "        insider.columns = ['Trader', 'Relationship', 'Date', 'Transaction', 'Cost', '# Shares', 'Value ($)', '# Shares Total', 'SEC Form 4']\n",
        "        insider = insider[['Date', 'Trader', 'Relationship', 'Transaction', 'Cost', '# Shares', 'Value ($)', '# Shares Total', 'SEC Form 4']]\n",
        "        insider = insider.set_index('Date')\n",
        "        return insider\n",
        "\n",
        "    except Exception as e:\n",
        "        return e\n"
      ]
    },
    {
      "cell_type": "markdown",
      "source": [
        "Extracting the data"
      ],
      "metadata": {
        "id": "Fr1ea4jRT9XJ"
      }
    },
    {
      "cell_type": "code",
      "source": [
        "\n",
        "print ('Fundamental Ratios: ')\n",
        "print(get_fundamentals())\n",
        "\n",
        "print ('\\nRecent News: ')\n",
        "print(get_news())\n",
        "\n",
        "print ('\\nRecent Insider Trades: ')\n",
        "print(get_insider())\n"
      ],
      "metadata": {
        "id": "z-LcmPUoTk7G",
        "outputId": "80d1ec49-694a-41b4-bfe8-220b59bc7dbf",
        "colab": {
          "base_uri": "https://localhost:8080/"
        }
      },
      "execution_count": 3,
      "outputs": [
        {
          "output_type": "stream",
          "name": "stdout",
          "text": [
            "Fundamental Ratios: \n",
            "                 Values\n",
            "Attributes             \n",
            "Index           S&P 500\n",
            "Market Cap      772.87B\n",
            "Income            8.40B\n",
            "Sales            62.19B\n",
            "Book/sh           32.96\n",
            "...                 ...\n",
            "ATR               63.07\n",
            "Volatility  8.54% 7.02%\n",
            "Prev Close       728.00\n",
            "Price            769.59\n",
            "Change            5.71%\n",
            "\n",
            "[72 rows x 1 columns]\n",
            "\n",
            "Recent News: \n",
            "                              News Headline              Article Link\n",
            "Date                                                                 \n",
            "May-13-22 10:31PM  Elon Musk Sows Doubt ...  https://finance.yahoo...\n",
            "09:49PM            Dow Jones Futures: St...  https://www.investors...\n",
            "06:26PM            EV Battery Technology...  https://www.investors...\n",
            "05:24PM            Elon Musk says Twitte...  https://finance.yahoo...\n",
            "05:15PM            Elon Musk invited leg...  https://finance.yahoo...\n",
            "...                                     ...                       ...\n",
            "05:10PM            Rivian earnings provi...  https://finance.yahoo...\n",
            "04:53PM            Rivian posts narrower...  https://finance.yahoo...\n",
            "04:52PM            Tesla Stock: Tesla's ...  https://www.investors...\n",
            "04:10PM            Market check: Energy ...  https://finance.yahoo...\n",
            "03:51PM            Tesla Stock Enters In...  https://www.investors...\n",
            "\n",
            "[100 rows x 2 columns]\n",
            "\n",
            "Recent Insider Trades: \n",
            "                  Trader              Relationship      Transaction     Cost  \\\n",
            "Date                                                                           \n",
            "May 02   DENHOLM ROBYN M                  Director  Option Exercise    52.38   \n",
            "May 02  Baglino Andrew D  SVP Powertrain and En...  Option Exercise    55.32   \n",
            "May 02   DENHOLM ROBYN M                  Director             Sale   887.99   \n",
            "May 02   DENHOLM ROBYN M                  Director             Sale   869.34   \n",
            "May 02  Baglino Andrew D  SVP Powertrain and En...             Sale   875.23   \n",
            "...                  ...                       ...              ...      ...   \n",
            "Nov 08         Musk Elon                       CEO             Sale  1164.95   \n",
            "Nov 08         Musk Elon                       CEO             Sale  1185.89   \n",
            "Nov 05       Musk Kimbal                  Director  Option Exercise    74.17   \n",
            "Nov 05       Musk Kimbal                  Director             Sale  1229.06   \n",
            "Nov 01   DENHOLM ROBYN M                  Director  Option Exercise    52.38   \n",
            "\n",
            "       # Shares  Value ($) # Shares Total       SEC Form 4  \n",
            "Date                                                        \n",
            "May 02    25000    1309500          30000  May 04 07:00 PM  \n",
            "May 02     5000     276600          25138  May 04 08:25 PM  \n",
            "May 02      121     107447          25000  May 04 07:05 PM  \n",
            "May 02    24779   21541489             49  May 04 07:00 PM  \n",
            "May 02     5000    4376135          20138  May 04 08:25 PM  \n",
            "...         ...        ...            ...              ...  \n",
            "Nov 08   257279  299717449        1897293  Nov 10 06:23 PM  \n",
            "Nov 08   676812  802625029        1220481  Nov 10 06:28 PM  \n",
            "Nov 05    25000    1854250         599740  Nov 05 09:22 PM  \n",
            "Nov 05    88500  108771415         511240  Nov 05 09:22 PM  \n",
            "Nov 01    25000    1309500          30000  Nov 03 08:03 PM  \n",
            "\n",
            "[100 rows x 8 columns]\n"
          ]
        }
      ]
    }
  ]
}