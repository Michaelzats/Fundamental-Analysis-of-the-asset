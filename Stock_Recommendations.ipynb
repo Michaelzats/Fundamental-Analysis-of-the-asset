{
  "nbformat": 4,
  "nbformat_minor": 0,
  "metadata": {
    "colab": {
      "name": "Stock Recommendations.ipynb",
      "provenance": [],
      "authorship_tag": "ABX9TyMJ51xZPEPoDlEVAPJjfBhs",
      "include_colab_link": true
    },
    "kernelspec": {
      "name": "python3",
      "display_name": "Python 3"
    },
    "language_info": {
      "name": "python"
    }
  },
  "cells": [
    {
      "cell_type": "markdown",
      "metadata": {
        "id": "view-in-github",
        "colab_type": "text"
      },
      "source": [
        "<a href=\"https://colab.research.google.com/github/Michaelzats/Stocks-Info-Scrapper/blob/main/Stock_Recommendations.ipynb\" target=\"_parent\"><img src=\"https://colab.research.google.com/assets/colab-badge.svg\" alt=\"Open In Colab\"/></a>"
      ]
    },
    {
      "cell_type": "code",
      "source": [
        "!pip install requests\n",
        "!pip install yahoo-fin"
      ],
      "metadata": {
        "id": "m5-hR8onQEGD"
      },
      "execution_count": null,
      "outputs": []
    },
    {
      "cell_type": "code",
      "execution_count": null,
      "metadata": {
        "colab": {
          "base_uri": "https://localhost:8080/",
          "height": 383
        },
        "id": "kIB7WjIhP9rP",
        "outputId": "012954bd-fbce-45c2-8dc7-9a3cae1d7cfe"
      },
      "outputs": [
        {
          "output_type": "error",
          "ename": "ModuleNotFoundError",
          "evalue": "ignored",
          "traceback": [
            "\u001b[0;31m---------------------------------------------------------------------------\u001b[0m",
            "\u001b[0;31mModuleNotFoundError\u001b[0m                       Traceback (most recent call last)",
            "\u001b[0;32m<ipython-input-1-2679789f80cb>\u001b[0m in \u001b[0;36m<module>\u001b[0;34m()\u001b[0m\n\u001b[1;32m      1\u001b[0m \u001b[0;32mimport\u001b[0m \u001b[0mpandas\u001b[0m \u001b[0;32mas\u001b[0m \u001b[0mpd\u001b[0m\u001b[0;34m\u001b[0m\u001b[0;34m\u001b[0m\u001b[0m\n\u001b[0;32m----> 2\u001b[0;31m \u001b[0;32mfrom\u001b[0m \u001b[0myahoo_fin\u001b[0m \u001b[0;32mimport\u001b[0m \u001b[0mstock_info\u001b[0m \u001b[0;32mas\u001b[0m \u001b[0msi\u001b[0m\u001b[0;34m\u001b[0m\u001b[0;34m\u001b[0m\u001b[0m\n\u001b[0m\u001b[1;32m      3\u001b[0m \u001b[0;32mfrom\u001b[0m \u001b[0mpandas_datareader\u001b[0m \u001b[0;32mimport\u001b[0m \u001b[0mDataReader\u001b[0m\u001b[0;34m\u001b[0m\u001b[0;34m\u001b[0m\u001b[0m\n\u001b[1;32m      4\u001b[0m \u001b[0;32mimport\u001b[0m \u001b[0mnumpy\u001b[0m \u001b[0;32mas\u001b[0m \u001b[0mnp\u001b[0m\u001b[0;34m\u001b[0m\u001b[0;34m\u001b[0m\u001b[0m\n\u001b[1;32m      5\u001b[0m \u001b[0;32mimport\u001b[0m \u001b[0mrequests\u001b[0m\u001b[0;34m\u001b[0m\u001b[0;34m\u001b[0m\u001b[0m\n",
            "\u001b[0;31mModuleNotFoundError\u001b[0m: No module named 'yahoo_fin'",
            "",
            "\u001b[0;31m---------------------------------------------------------------------------\u001b[0;32m\nNOTE: If your import is failing due to a missing package, you can\nmanually install dependencies using either !pip or !apt.\n\nTo view examples of installing some common dependencies, click the\n\"Open Examples\" button below.\n\u001b[0;31m---------------------------------------------------------------------------\u001b[0m\n"
          ],
          "errorDetails": {
            "actions": [
              {
                "action": "open_url",
                "actionText": "Open Examples",
                "url": "/notebooks/snippets/importing_libraries.ipynb"
              }
            ]
          }
        }
      ],
      "source": [
        "import pandas as pd \n",
        "from yahoo_fin import stock_info as si \n",
        "from pandas_datareader import DataReader\n",
        "import numpy as np\n",
        "import requests \n",
        "\n",
        "tickers = si.tickers_sp500()\n",
        "recommendations = []\n",
        "\n",
        "for ticker in tickers:\n",
        "    lhs_url = 'https://query2.finance.yahoo.com/v10/finance/quoteSummary/'\n",
        "    rhs_url = '?formatted=true&crumb=swg7qs5y9UP&lang=en-US&region=US&' \\\n",
        "              'modules=upgradeDowngradeHistory,recommendationTrend,' \\\n",
        "              'financialData,earningsHistory,earningsTrend,industryTrend&' \\\n",
        "              'corsDomain=finance.yahoo.com'\n",
        "    \n",
        "    headers = {'User-Agent': 'Mozilla/5.0 (Macintosh; Intel Mac OS X 10_11_5) AppleWebKit/537.36 (KHTML, like Gecko) Chrome/50.0.2661.102 Safari/537.36'}\n",
        "    url =  lhs_url + ticker + rhs_url\n",
        "    r = requests.get(url, headers=headers)\n",
        "    if not r.ok:\n",
        "        recommendation = 6\n",
        "    try:\n",
        "        result = r.json()['quoteSummary']['result'][0]\n",
        "        recommendation =result['financialData']['recommendationMean']['fmt']\n",
        "    except:\n",
        "        recommendation = 6\n",
        "    \n",
        "    recommendations.append(recommendation)\n",
        "    \n",
        "    print(\"--------------------------------------------\")\n",
        "    print (\"{} has an average recommendation of: \".format(ticker), recommendation)\n",
        "    #time.sleep(0.5)\n",
        "    \n",
        "dataframe = pd.DataFrame(list(zip(tickers, recommendations)), columns =['Company', 'Recommendations']) \n",
        "dataframe = dataframe.set_index('Company')\n",
        "dataframe.to_excel ('recommendations.xlsx')\n",
        "\n",
        "print (dataframe)\n"
      ]
    }
  ]
}